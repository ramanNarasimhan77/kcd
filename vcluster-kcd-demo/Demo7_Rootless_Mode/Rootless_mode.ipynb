{
 "cells": [
  {
   "cell_type": "markdown",
   "metadata": {},
   "source": [
    "## Demo : Running vcluster in rootless mode"
   ]
  },
  {
   "cell_type": "markdown",
   "metadata": {},
   "source": [
    "### Create vcluster"
   ]
  },
  {
   "cell_type": "markdown",
   "metadata": {},
   "source": [
    "##### Values.yaml preparation"
   ]
  },
  {
   "cell_type": "code",
   "execution_count": 1,
   "metadata": {},
   "outputs": [
    {
     "name": "stdout",
     "output_type": "stream",
     "text": [
      "# Refer https://github.com/loft-sh/vcluster/blob/main/charts/k3s/values.yaml for full set of customisable options\n",
      "\n",
      "# Run as a non-root user, guaranteed to work only for k3s\n",
      "securityContext:\n",
      "  runAsUser: 12345\n",
      "  runAsNonRoot: true"
     ]
    }
   ],
   "source": [
    "! cat values.yaml"
   ]
  },
  {
   "cell_type": "markdown",
   "metadata": {},
   "source": [
    "##### Create vcluster with the customized values.yaml"
   ]
  },
  {
   "cell_type": "code",
   "execution_count": 2,
   "metadata": {},
   "outputs": [
    {
     "name": "stdout",
     "output_type": "stream",
     "text": [
      "\u001b[1;36m[info]   \u001b[0mCreating namespace host-namespace\n",
      "\u001b[1;36m[info]   \u001b[0mexecute command: helm upgrade vc1 vcluster --repo https://charts.loft.sh --version 0.8.1 --kubeconfig /tmp/595511949 --namespace host-namespace --install --repository-config='' --values /tmp/102398210 --values values.yaml\n",
      "\u001b[1;32m[done] √ \u001b[0mSuccessfully created virtual cluster vc1 in namespace host-namespace. \n",
      "- Use 'vcluster connect vc1 --namespace host-namespace' to access the virtual cluster\n",
      "- Use `vcluster connect vc1 --namespace host-namespace -- kubectl get ns` to run a command directly within the vcluster\n"
     ]
    }
   ],
   "source": [
    "! vcluster create vc1 -n host-namespace -f values.yaml --expose"
   ]
  },
  {
   "cell_type": "code",
   "execution_count": 15,
   "metadata": {},
   "outputs": [
    {
     "name": "stdout",
     "output_type": "stream",
     "text": [
      "NAME                                              READY   STATUS    RESTARTS   AGE\n",
      "pod/coredns-7c65b46c6-8ppwr-x-kube-system-x-vc1   1/1     Running   0          7s\n",
      "pod/vc1-0                                         2/2     Running   0          23s\n",
      "\n",
      "NAME                                         TYPE           CLUSTER-IP      EXTERNAL-IP      PORT(S)                  AGE\n",
      "service/kube-dns-x-kube-system-x-vc1         ClusterIP      10.96.44.94     <none>           53/UDP,53/TCP,9153/TCP   7s\n",
      "service/vc1                                  LoadBalancer   10.96.62.8      172.18.255.201   443:31144/TCP            23s\n",
      "service/vc1-headless                         ClusterIP      None            <none>           443/TCP                  23s\n",
      "service/vc1-node-kcd-vcluster-demo-worker3   ClusterIP      10.96.195.106   <none>           10250/TCP                7s\n",
      "\n",
      "NAME                   READY   AGE\n",
      "statefulset.apps/vc1   1/1     23s\n"
     ]
    }
   ],
   "source": [
    "! kubectl get all -n host-namespace"
   ]
  },
  {
   "cell_type": "markdown",
   "metadata": {},
   "source": [
    "##### Accessing Vcluster"
   ]
  },
  {
   "cell_type": "code",
   "execution_count": 16,
   "metadata": {},
   "outputs": [
    {
     "name": "stdout",
     "output_type": "stream",
     "text": [
      "\u001b[1;36m[info]   \u001b[0mUsing vcluster vc1 load balancer endpoint: 172.18.255.201\n",
      "\u001b[1;36m[info]   \u001b[0mUse `vcluster connect vc1 -n host-namespace -- kubectl get ns` to execute a command directly within this terminal\n",
      "\u001b[1;32m[done] √ \u001b[0mVirtual cluster kube config written to: ./kubeconfig.yaml. You can access the cluster via `kubectl --kubeconfig ./kubeconfig.yaml get namespaces`\n"
     ]
    }
   ],
   "source": [
    "! vcluster connect vc1 --namespace host-namespace"
   ]
  },
  {
   "cell_type": "markdown",
   "metadata": {},
   "source": [
    "##### Verify that pod vc1-0 is running as a non-root user"
   ]
  },
  {
   "cell_type": "code",
   "execution_count": 17,
   "metadata": {},
   "outputs": [
    {
     "name": "stdout",
     "output_type": "stream",
     "text": [
      "Defaulted container \"vcluster\" out of: vcluster, syncer\n",
      "uid=12345 gid=0 groups=0\n"
     ]
    }
   ],
   "source": [
    "! kubectl exec vc1-0 --namespace host-namespace -- id "
   ]
  },
  {
   "cell_type": "markdown",
   "metadata": {},
   "source": [
    "### Cleanup"
   ]
  },
  {
   "cell_type": "code",
   "execution_count": 18,
   "metadata": {},
   "outputs": [
    {
     "name": "stdout",
     "output_type": "stream",
     "text": [
      "\u001b[1;36m[info]   \u001b[0mDelete helm chart with helm delete vc1 --namespace host-namespace --kubeconfig /tmp/4005648566 --repository-config=''\n",
      "\u001b[1;32m[done] √ \u001b[0mSuccessfully deleted virtual cluster vc1 in namespace host-namespace\n",
      "\u001b[1;32m[done] √ \u001b[0mSuccessfully deleted virtual cluster pvc data-vc1-0 in namespace host-namespace\n",
      "namespace \"host-namespace\" deleted\n"
     ]
    }
   ],
   "source": [
    "! vcluster delete vc1 -n host-namespace \n",
    "! kubectl delete ns host-namespace"
   ]
  },
  {
   "cell_type": "code",
   "execution_count": 19,
   "metadata": {},
   "outputs": [
    {
     "name": "stdout",
     "output_type": "stream",
     "text": [
      "NAME                 STATUS   AGE\n",
      "default              Active   45m\n",
      "kube-node-lease      Active   45m\n",
      "kube-public          Active   45m\n",
      "kube-system          Active   45m\n",
      "local-path-storage   Active   45m\n",
      "metallb-system       Active   44m\n"
     ]
    }
   ],
   "source": [
    "! kubectl get ns"
   ]
  }
 ],
 "metadata": {
  "interpreter": {
   "hash": "72230b85df51ebc92777be4e6c44cc650838af25c60d888dad40f7efe465b082"
  },
  "kernelspec": {
   "display_name": "Python 3.10.4 ('demoenv')",
   "language": "python",
   "name": "python3"
  },
  "language_info": {
   "codemirror_mode": {
    "name": "ipython",
    "version": 3
   },
   "file_extension": ".py",
   "mimetype": "text/x-python",
   "name": "python",
   "nbconvert_exporter": "python",
   "pygments_lexer": "ipython3",
   "version": "3.10.4"
  },
  "orig_nbformat": 4
 },
 "nbformat": 4,
 "nbformat_minor": 2
}
