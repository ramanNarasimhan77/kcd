{
 "cells": [
  {
   "cell_type": "markdown",
   "metadata": {},
   "source": [
    "## Demo : Inception"
   ]
  },
  {
   "cell_type": "markdown",
   "metadata": {},
   "source": [
    "##### Create level1 vcluster"
   ]
  },
  {
   "cell_type": "code",
   "execution_count": 1,
   "metadata": {},
   "outputs": [
    {
     "name": "stdout",
     "output_type": "stream",
     "text": [
      "\u001b[1;36m[info]   \u001b[0mCreating namespace level1\n",
      "\u001b[1;36m[info]   \u001b[0mexecute command: helm upgrade vc-level1 vcluster --repo https://charts.loft.sh --version 0.8.1 --kubeconfig /tmp/141001487 --namespace level1 --install --repository-config='' --values /tmp/3563809011\n",
      "\u001b[1;32m[done] √ \u001b[0mSuccessfully created virtual cluster vc-level1 in namespace level1. \n",
      "- Use 'vcluster connect vc-level1 --namespace level1' to access the virtual cluster\n",
      "- Use `vcluster connect vc-level1 --namespace level1 -- kubectl get ns` to run a command directly within the vcluster\n"
     ]
    }
   ],
   "source": [
    "! vcluster create vc-level1 -n level1 --expose"
   ]
  },
  {
   "cell_type": "markdown",
   "metadata": {},
   "source": [
    "##### Accessing Level1 Vcluster and Creating a workload"
   ]
  },
  {
   "cell_type": "code",
   "execution_count": 2,
   "metadata": {},
   "outputs": [
    {
     "name": "stdout",
     "output_type": "stream",
     "text": [
      "\u001b[1;36m[info]   \u001b[0mWaiting for vcluster to come up...\n",
      "\u001b[1;36m[info]   \u001b[0mUsing vcluster vc-level1 load balancer endpoint: 172.18.255.201\n",
      "\u001b[1;36m[info]   \u001b[0mUse `vcluster connect vc-level1 -n level1 -- kubectl get ns` to execute a command directly within this terminal\n",
      "\u001b[1;32m[done] √ \u001b[0mVirtual cluster kube config written to: vc-level1-kubeconfig.yaml. You can access the cluster via `kubectl --kubeconfig vc-level1-kubeconfig.yaml get namespaces`\n"
     ]
    }
   ],
   "source": [
    "! vcluster connect vc-level1 --namespace level1 --kube-config vc-level1-kubeconfig.yaml"
   ]
  },
  {
   "cell_type": "code",
   "execution_count": 3,
   "metadata": {},
   "outputs": [
    {
     "name": "stdout",
     "output_type": "stream",
     "text": [
      "namespace/ns1 created\n",
      "deployment.apps/sample created\n"
     ]
    }
   ],
   "source": [
    "! kubectl create ns ns1 --kubeconfig ./vc-level1-kubeconfig.yaml\n",
    "! kubectl create deployment sample -n ns1 --image=nginx --replicas 2 --kubeconfig ./vc-level1-kubeconfig.yaml"
   ]
  },
  {
   "cell_type": "markdown",
   "metadata": {},
   "source": [
    "##### Create Level2 Vcluster"
   ]
  },
  {
   "cell_type": "code",
   "execution_count": 4,
   "metadata": {},
   "outputs": [
    {
     "name": "stdout",
     "output_type": "stream",
     "text": [
      "\u001b[1;36m[info]   \u001b[0mCreating namespace level2\n",
      "\u001b[1;36m[info]   \u001b[0mexecute command: helm upgrade vc-level2 vcluster --repo https://charts.loft.sh --version 0.8.1 --kubeconfig /tmp/3554895994 --namespace level2 --install --repository-config='' --values /tmp/3320340920\n",
      "\u001b[1;32m[done] √ \u001b[0mSuccessfully created virtual cluster vc-level2 in namespace level2. \n",
      "- Use 'vcluster connect vc-level2 --namespace level2' to access the virtual cluster\n",
      "- Use `vcluster connect vc-level2 --namespace level2 -- kubectl get ns` to run a command directly within the vcluster\n"
     ]
    }
   ],
   "source": [
    "%%bash\n",
    "export KUBECONFIG=./vc-level1-kubeconfig.yaml \n",
    "vcluster create vc-level2 -n level2 --expose"
   ]
  },
  {
   "cell_type": "markdown",
   "metadata": {},
   "source": [
    "##### Accessing Level2 Vcluster and Creating a workload"
   ]
  },
  {
   "cell_type": "code",
   "execution_count": 5,
   "metadata": {},
   "outputs": [
    {
     "name": "stdout",
     "output_type": "stream",
     "text": [
      "\u001b[1;36m[info]   \u001b[0mWaiting for vcluster to come up...\n",
      "\u001b[1;36m[info]   \u001b[0mUsing vcluster vc-level2 load balancer endpoint: 172.18.255.202\n",
      "\u001b[1;36m[info]   \u001b[0mUse `vcluster connect vc-level2 -n level2 -- kubectl get ns` to execute a command directly within this terminal\n",
      "\u001b[1;32m[done] √ \u001b[0mVirtual cluster kube config written to: vc-level2-kubeconfig.yaml. You can access the cluster via `kubectl --kubeconfig vc-level2-kubeconfig.yaml get namespaces`\n"
     ]
    }
   ],
   "source": [
    "%%bash\n",
    "export KUBECONFIG=./vc-level1-kubeconfig.yaml \n",
    "vcluster connect vc-level2 --namespace level2 \\\n",
    "    --kube-config vc-level2-kubeconfig.yaml"
   ]
  },
  {
   "cell_type": "code",
   "execution_count": 6,
   "metadata": {},
   "outputs": [
    {
     "name": "stdout",
     "output_type": "stream",
     "text": [
      "namespace/ns1 created\n",
      "deployment.apps/sample created\n"
     ]
    }
   ],
   "source": [
    "! kubectl create ns ns1 --kubeconfig ./vc-level2-kubeconfig.yaml\n",
    "! kubectl create deployment sample -n ns1 --image=nginx --replicas 2 --kubeconfig ./vc-level2-kubeconfig.yaml"
   ]
  },
  {
   "cell_type": "markdown",
   "metadata": {},
   "source": [
    "##### Let's see the Inception from the host cluster"
   ]
  },
  {
   "cell_type": "code",
   "execution_count": 8,
   "metadata": {},
   "outputs": [
    {
     "name": "stdout",
     "output_type": "stream",
     "text": [
      "NAME                                                              READY   STATUS    RESTARTS   AGE\n",
      "sample-7f75ccc884-cvrvv-x-ns1-x-vc-level1                         1/1     Running   0          2m31s\n",
      "sample-7f75ccc884-hzkgj-x-ns1-x-vc-level2-x-level2-x-vc-level1    1/1     Running   0          38s\n",
      "sample-7f75ccc884-kj5lw-x-ns1-x-vc-level1                         1/1     Running   0          2m31s\n",
      "sample-7f75ccc884-mx9zm-x-ns1-x-vc-level2-x-level2-x-vc-level1    1/1     Running   0          38s\n"
     ]
    }
   ],
   "source": [
    "! kubectl get pods -n level1 | grep -e NAME -e sample"
   ]
  },
  {
   "cell_type": "markdown",
   "metadata": {},
   "source": [
    "##### "
   ]
  },
  {
   "cell_type": "markdown",
   "metadata": {},
   "source": [
    "### Cleanup"
   ]
  },
  {
   "cell_type": "code",
   "execution_count": 9,
   "metadata": {},
   "outputs": [
    {
     "name": "stdout",
     "output_type": "stream",
     "text": [
      "\u001b[1;36m[info]   \u001b[0mDelete helm chart with helm delete vc-level1 --namespace level1 --kubeconfig /tmp/3104529086 --repository-config=''\n",
      "\u001b[1;32m[done] √ \u001b[0mSuccessfully deleted virtual cluster vc-level1 in namespace level1\n",
      "\u001b[1;32m[done] √ \u001b[0mSuccessfully deleted virtual cluster pvc data-vc-level1-0 in namespace level1\n",
      "namespace \"level1\" deleted\n"
     ]
    }
   ],
   "source": [
    "! vcluster delete vc-level1 -n level1\n",
    "! kubectl delete namespace level1"
   ]
  },
  {
   "cell_type": "code",
   "execution_count": 10,
   "metadata": {},
   "outputs": [
    {
     "name": "stdout",
     "output_type": "stream",
     "text": [
      "NAME                 STATUS   AGE\n",
      "default              Active   25m\n",
      "kube-node-lease      Active   25m\n",
      "kube-public          Active   25m\n",
      "kube-system          Active   25m\n",
      "local-path-storage   Active   24m\n",
      "metallb-system       Active   24m\n"
     ]
    }
   ],
   "source": [
    "! kubectl get ns"
   ]
  }
 ],
 "metadata": {
  "interpreter": {
   "hash": "72230b85df51ebc92777be4e6c44cc650838af25c60d888dad40f7efe465b082"
  },
  "kernelspec": {
   "display_name": "Python 3.10.4 ('demoenv')",
   "language": "python",
   "name": "python3"
  },
  "language_info": {
   "codemirror_mode": {
    "name": "ipython",
    "version": 3
   },
   "file_extension": ".py",
   "mimetype": "text/x-python",
   "name": "python",
   "nbconvert_exporter": "python",
   "pygments_lexer": "ipython3",
   "version": "3.10.4"
  },
  "orig_nbformat": 4
 },
 "nbformat": 4,
 "nbformat_minor": 2
}
