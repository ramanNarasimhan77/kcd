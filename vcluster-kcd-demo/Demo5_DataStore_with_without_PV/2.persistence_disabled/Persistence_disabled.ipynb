{
 "cells": [
  {
   "cell_type": "markdown",
   "metadata": {},
   "source": [
    "## Demo 3.2: Vcluster without Datastore Persistence"
   ]
  },
  {
   "cell_type": "markdown",
   "metadata": {},
   "source": [
    "### Create vcluster"
   ]
  },
  {
   "cell_type": "markdown",
   "metadata": {},
   "source": [
    "##### Values.yaml preparation"
   ]
  },
  {
   "cell_type": "code",
   "execution_count": 1,
   "metadata": {},
   "outputs": [
    {
     "name": "stdout",
     "output_type": "stream",
     "text": [
      "# Refer https://github.com/loft-sh/vcluster/blob/main/charts/k3s/values.yaml for full set of customisable options\n",
      "\n",
      "storage:\n",
      "  persistence: false"
     ]
    }
   ],
   "source": [
    "! cat values.yaml"
   ]
  },
  {
   "cell_type": "markdown",
   "metadata": {},
   "source": [
    "##### Create vcluster with the customized values.yaml"
   ]
  },
  {
   "cell_type": "code",
   "execution_count": 2,
   "metadata": {},
   "outputs": [
    {
     "name": "stdout",
     "output_type": "stream",
     "text": [
      "\u001b[1;36m[info]   \u001b[0mCreating namespace host-namespace\n",
      "\u001b[1;36m[info]   \u001b[0mexecute command: helm upgrade vc1 vcluster --repo https://charts.loft.sh --version 0.8.1 --kubeconfig /tmp/3803531792 --namespace host-namespace --install --repository-config='' --values /tmp/2449566535 --values values.yaml\n",
      "\u001b[1;32m[done] √ \u001b[0mSuccessfully created virtual cluster vc1 in namespace host-namespace. \n",
      "- Use 'vcluster connect vc1 --namespace host-namespace' to access the virtual cluster\n",
      "- Use `vcluster connect vc1 --namespace host-namespace -- kubectl get ns` to run a command directly within the vcluster\n"
     ]
    }
   ],
   "source": [
    "! vcluster create vc1 -n host-namespace -f values.yaml --expose"
   ]
  },
  {
   "cell_type": "code",
   "execution_count": 8,
   "metadata": {},
   "outputs": [
    {
     "name": "stdout",
     "output_type": "stream",
     "text": [
      "NAME                                               READY   STATUS    RESTARTS   AGE\n",
      "pod/coredns-5df468b6b7-wjbsr-x-kube-system-x-vc1   1/1     Running   0          5s\n",
      "pod/vc1-0                                          2/2     Running   0          15s\n",
      "\n",
      "NAME                                        TYPE           CLUSTER-IP     EXTERNAL-IP      PORT(S)                  AGE\n",
      "service/kube-dns-x-kube-system-x-vc1        ClusterIP      10.96.14.244   <none>           53/UDP,53/TCP,9153/TCP   5s\n",
      "service/vc1                                 LoadBalancer   10.96.222.44   172.18.255.201   443:31452/TCP            15s\n",
      "service/vc1-headless                        ClusterIP      None           <none>           443/TCP                  15s\n",
      "service/vc1-node-kcd-vcluster-demo-worker   ClusterIP      10.96.103.25   <none>           10250/TCP                5s\n",
      "\n",
      "NAME                   READY   AGE\n",
      "statefulset.apps/vc1   1/1     15s\n"
     ]
    }
   ],
   "source": [
    "! kubectl get all -n host-namespace"
   ]
  },
  {
   "cell_type": "markdown",
   "metadata": {},
   "source": [
    "##### Verify that persistence is disabled"
   ]
  },
  {
   "cell_type": "markdown",
   "metadata": {},
   "source": [
    "######  By verifying the helm values"
   ]
  },
  {
   "cell_type": "code",
   "execution_count": 9,
   "metadata": {},
   "outputs": [
    {
     "name": "stdout",
     "output_type": "stream",
     "text": [
      "storage.persistence: false\n"
     ]
    }
   ],
   "source": [
    "! echo \"storage.persistence:\" $(helm get values vc1 -n host-namespace -a | grep -v COMPUTED_VALUES | yq '.storage.persistence')"
   ]
  },
  {
   "cell_type": "markdown",
   "metadata": {},
   "source": [
    "######  By verifying vc1-0 pod's data volume"
   ]
  },
  {
   "cell_type": "code",
   "execution_count": 10,
   "metadata": {},
   "outputs": [
    {
     "name": "stdout",
     "output_type": "stream",
     "text": [
      "\u001b[1;39m{\n",
      "  \u001b[0m\u001b[34;1m\"emptyDir\"\u001b[0m\u001b[1;39m: \u001b[0m\u001b[1;39m{}\u001b[0m\u001b[1;39m,\n",
      "  \u001b[0m\u001b[34;1m\"name\"\u001b[0m\u001b[1;39m: \u001b[0m\u001b[0;32m\"data\"\u001b[0m\u001b[1;39m\n",
      "\u001b[1;39m}\u001b[0m\n"
     ]
    }
   ],
   "source": [
    "! kubectl get pod vc1-0 --namespace host-namespace \\\n",
    "  -o jsonpath=\"{.spec.volumes[?(@.name == 'data')]}\" | jq"
   ]
  },
  {
   "cell_type": "markdown",
   "metadata": {},
   "source": [
    "##### Accessing Vcluster"
   ]
  },
  {
   "cell_type": "code",
   "execution_count": 11,
   "metadata": {},
   "outputs": [
    {
     "name": "stdout",
     "output_type": "stream",
     "text": [
      "\u001b[1;36m[info]   \u001b[0mUsing vcluster vc1 load balancer endpoint: 172.18.255.201\n",
      "\u001b[1;36m[info]   \u001b[0mUse `vcluster connect vc1 -n host-namespace -- kubectl get ns` to execute a command directly within this terminal\n",
      "\u001b[1;32m[done] √ \u001b[0mVirtual cluster kube config written to: ./kubeconfig.yaml. You can access the cluster via `kubectl --kubeconfig ./kubeconfig.yaml get namespaces`\n"
     ]
    }
   ],
   "source": [
    "! vcluster connect vc1 --namespace host-namespace"
   ]
  },
  {
   "cell_type": "markdown",
   "metadata": {},
   "source": [
    "##### Create a workload inside the vcluster"
   ]
  },
  {
   "cell_type": "code",
   "execution_count": 12,
   "metadata": {},
   "outputs": [
    {
     "name": "stdout",
     "output_type": "stream",
     "text": [
      "namespace/ns1 created\n",
      "deployment.apps/sample created\n"
     ]
    }
   ],
   "source": [
    "! kubectl create ns ns1 --kubeconfig ./kubeconfig.yaml\n",
    "! kubectl create deployment sample -n ns1 --image=nginx --replicas 2 --kubeconfig ./kubeconfig.yaml"
   ]
  },
  {
   "cell_type": "code",
   "execution_count": 15,
   "metadata": {},
   "outputs": [
    {
     "name": "stdout",
     "output_type": "stream",
     "text": [
      "NAME                      READY   STATUS    RESTARTS   AGE\n",
      "sample-7f75ccc884-d4r2h   1/1     Running   0          6s\n",
      "sample-7f75ccc884-5f9qj   1/1     Running   0          6s\n"
     ]
    }
   ],
   "source": [
    "! kubectl get pods -n ns1 --kubeconfig ./kubeconfig.yaml"
   ]
  },
  {
   "cell_type": "markdown",
   "metadata": {},
   "source": [
    "##### Simulate a vcluster failure by deleting vcluster pod in host cluster"
   ]
  },
  {
   "cell_type": "code",
   "execution_count": 16,
   "metadata": {},
   "outputs": [
    {
     "name": "stdout",
     "output_type": "stream",
     "text": [
      "NAME                                           READY   STATUS    RESTARTS   AGE\n",
      "coredns-5df468b6b7-wjbsr-x-kube-system-x-vc1   1/1     Running   0          66s\n",
      "sample-7f75ccc884-5f9qj-x-ns1-x-vc1            1/1     Running   0          18s\n",
      "sample-7f75ccc884-d4r2h-x-ns1-x-vc1            1/1     Running   0          18s\n",
      "vc1-0                                          2/2     Running   0          76s\n"
     ]
    }
   ],
   "source": [
    " ! kubectl get pods -n host-namespace"
   ]
  },
  {
   "cell_type": "code",
   "execution_count": 17,
   "metadata": {},
   "outputs": [
    {
     "name": "stdout",
     "output_type": "stream",
     "text": [
      "pod \"vc1-0\" deleted\n"
     ]
    }
   ],
   "source": [
    " ! kubectl delete pod vc1-0 -n host-namespace"
   ]
  },
  {
   "cell_type": "code",
   "execution_count": 29,
   "metadata": {},
   "outputs": [
    {
     "name": "stdout",
     "output_type": "stream",
     "text": [
      "NAME                                           READY   STATUS    RESTARTS   AGE\n",
      "coredns-5df468b6b7-6n98p-x-kube-system-x-vc1   1/1     Running   0          44s\n",
      "vc1-0                                          2/2     Running   0          56s\n"
     ]
    }
   ],
   "source": [
    "! kubectl get pods -n host-namespace"
   ]
  },
  {
   "cell_type": "code",
   "execution_count": 30,
   "metadata": {},
   "outputs": [
    {
     "name": "stdout",
     "output_type": "stream",
     "text": [
      "Unable to connect to the server: x509: certificate signed by unknown authority\n"
     ]
    }
   ],
   "source": [
    "! kubectl get pods -n ns1 --kubeconfig ./kubeconfig.yaml"
   ]
  },
  {
   "cell_type": "code",
   "execution_count": 31,
   "metadata": {},
   "outputs": [
    {
     "name": "stdout",
     "output_type": "stream",
     "text": [
      "\u001b[1;36m[info]   \u001b[0mUsing vcluster vc1 load balancer endpoint: 172.18.255.201\n",
      "\u001b[1;36m[info]   \u001b[0mUse `vcluster connect vc1 -n host-namespace -- kubectl get ns` to execute a command directly within this terminal\n",
      "\u001b[1;32m[done] √ \u001b[0mVirtual cluster kube config written to: new_kubeconfig.yaml. You can access the cluster via `kubectl --kubeconfig new_kubeconfig.yaml get namespaces`\n"
     ]
    }
   ],
   "source": [
    "! vcluster connect vc1 --namespace host-namespace  --kube-config new_kubeconfig.yaml"
   ]
  },
  {
   "cell_type": "code",
   "execution_count": 32,
   "metadata": {},
   "outputs": [
    {
     "name": "stdout",
     "output_type": "stream",
     "text": [
      "No resources found in ns1 namespace.\n"
     ]
    }
   ],
   "source": [
    "! kubectl get pods -n ns1 --kubeconfig ./new_kubeconfig.yaml "
   ]
  },
  {
   "cell_type": "markdown",
   "metadata": {},
   "source": [
    "### Cleanup"
   ]
  },
  {
   "cell_type": "code",
   "execution_count": 33,
   "metadata": {},
   "outputs": [
    {
     "name": "stdout",
     "output_type": "stream",
     "text": [
      "\u001b[1;36m[info]   \u001b[0mDelete helm chart with helm delete vc1 --namespace host-namespace --kubeconfig /tmp/385538987 --repository-config=''\n",
      "\u001b[1;32m[done] √ \u001b[0mSuccessfully deleted virtual cluster vc1 in namespace host-namespace\n",
      "namespace \"host-namespace\" deleted\n"
     ]
    }
   ],
   "source": [
    "! vcluster delete vc1 -n host-namespace\n",
    "! kubectl delete ns host-namespace"
   ]
  },
  {
   "cell_type": "code",
   "execution_count": 34,
   "metadata": {},
   "outputs": [
    {
     "name": "stdout",
     "output_type": "stream",
     "text": [
      "NAME                 STATUS   AGE\n",
      "default              Active   36m\n",
      "kube-node-lease      Active   36m\n",
      "kube-public          Active   36m\n",
      "kube-system          Active   36m\n",
      "local-path-storage   Active   36m\n",
      "metallb-system       Active   35m\n"
     ]
    }
   ],
   "source": [
    "! kubectl get ns"
   ]
  }
 ],
 "metadata": {
  "interpreter": {
   "hash": "72230b85df51ebc92777be4e6c44cc650838af25c60d888dad40f7efe465b082"
  },
  "kernelspec": {
   "display_name": "Python 3.10.4 ('demoenv')",
   "language": "python",
   "name": "python3"
  },
  "language_info": {
   "codemirror_mode": {
    "name": "ipython",
    "version": 3
   },
   "file_extension": ".py",
   "mimetype": "text/x-python",
   "name": "python",
   "nbconvert_exporter": "python",
   "pygments_lexer": "ipython3",
   "version": "3.10.4"
  },
  "orig_nbformat": 4
 },
 "nbformat": 4,
 "nbformat_minor": 2
}
