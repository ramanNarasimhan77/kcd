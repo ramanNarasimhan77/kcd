{
 "cells": [
  {
   "cell_type": "markdown",
   "metadata": {},
   "source": [
    "### Quick Start"
   ]
  },
  {
   "cell_type": "markdown",
   "metadata": {},
   "source": [
    "We have setup a kind cluster already. This will be our \"host cluster\" \n",
    "\n",
    "Now let’s list the nodes in host cluster."
   ]
  },
  {
   "cell_type": "code",
   "execution_count": 3,
   "metadata": {},
   "outputs": [
    {
     "name": "stdout",
     "output_type": "stream",
     "text": [
      "NAME                              STATUS   ROLES                  AGE   VERSION   INTERNAL-IP   EXTERNAL-IP   OS-IMAGE       KERNEL-VERSION                      CONTAINER-RUNTIME\n",
      "kcd-vcluster-demo-control-plane   Ready    control-plane,master   67m   v1.23.6   172.18.0.2    <none>        Ubuntu 21.10   5.10.16.3-microsoft-standard-WSL2   containerd://1.6.4\n",
      "kcd-vcluster-demo-worker          Ready    <none>                 66m   v1.23.6   172.18.0.4    <none>        Ubuntu 21.10   5.10.16.3-microsoft-standard-WSL2   containerd://1.6.4\n",
      "kcd-vcluster-demo-worker2         Ready    <none>                 66m   v1.23.6   172.18.0.5    <none>        Ubuntu 21.10   5.10.16.3-microsoft-standard-WSL2   containerd://1.6.4\n",
      "kcd-vcluster-demo-worker3         Ready    <none>                 66m   v1.23.6   172.18.0.3    <none>        Ubuntu 21.10   5.10.16.3-microsoft-standard-WSL2   containerd://1.6.4\n"
     ]
    }
   ],
   "source": [
    "! kubectl get nodes -o wide"
   ]
  },
  {
   "cell_type": "markdown",
   "metadata": {},
   "source": [
    "Let's list the namespaces in the host cluster."
   ]
  },
  {
   "cell_type": "code",
   "execution_count": 4,
   "metadata": {},
   "outputs": [
    {
     "name": "stdout",
     "output_type": "stream",
     "text": [
      "NAME                 STATUS   AGE\n",
      "default              Active   69m\n",
      "kube-node-lease      Active   69m\n",
      "kube-public          Active   69m\n",
      "kube-system          Active   69m\n",
      "local-path-storage   Active   69m\n",
      "metallb-system       Active   68m\n"
     ]
    }
   ],
   "source": [
    "! kubectl get namespace"
   ]
  },
  {
   "cell_type": "markdown",
   "metadata": {},
   "source": [
    "Let's create a namespace called \"host-namespace\" in the underlying host cluster which is supposed to host our virtual cluster."
   ]
  },
  {
   "cell_type": "code",
   "execution_count": 5,
   "metadata": {},
   "outputs": [
    {
     "name": "stdout",
     "output_type": "stream",
     "text": [
      "namespace/host-namespace created\n"
     ]
    }
   ],
   "source": [
    "! kubectl create namespace host-namespace"
   ]
  },
  {
   "cell_type": "markdown",
   "metadata": {},
   "source": [
    "Now let's create a vcluster on top of the host cluster inside the namespace host-namespace. \n",
    "\n",
    "\n",
    "Let's use vcluster cli to create vcluster with the name vc1 in the host namespace. "
   ]
  },
  {
   "cell_type": "code",
   "execution_count": 6,
   "metadata": {},
   "outputs": [
    {
     "name": "stdout",
     "output_type": "stream",
     "text": [
      "\u001b[1;36m[info]   \u001b[0mexecute command: helm upgrade vc1 vcluster --repo https://charts.loft.sh --version 0.8.1 --kubeconfig /tmp/4089102180 --namespace host-namespace --install --repository-config='' --values /tmp/352538868\n",
      "\u001b[1;32m[done] √ \u001b[0mSuccessfully created virtual cluster vc1 in namespace host-namespace. \n",
      "- Use 'vcluster connect vc1 --namespace host-namespace' to access the virtual cluster\n",
      "- Use `vcluster connect vc1 --namespace host-namespace -- kubectl get ns` to run a command directly within the vcluster\n"
     ]
    }
   ],
   "source": [
    "! vcluster create vc1 -n host-namespace\n"
   ]
  },
  {
   "cell_type": "markdown",
   "metadata": {},
   "source": [
    "Then we run the vcluster list to see that vcluster is listed."
   ]
  },
  {
   "cell_type": "code",
   "execution_count": 7,
   "metadata": {},
   "outputs": [
    {
     "name": "stdout",
     "output_type": "stream",
     "text": [
      "\n",
      "\u001b[1;32m NAME  \u001b[0m\u001b[1;32m NAMESPACE  \u001b[0m     \u001b[1;32m CREATED  \u001b[0m                      \u001b[1;32m AGE  \u001b[0m\n",
      " vc1    host-namespace   2022-05-27 16:24:53 +0530 IST   29s  \n",
      "\n"
     ]
    }
   ],
   "source": [
    "! vcluster list"
   ]
  },
  {
   "cell_type": "markdown",
   "metadata": {},
   "source": [
    "Let's see what's inside the host-namespace. "
   ]
  },
  {
   "cell_type": "code",
   "execution_count": 8,
   "metadata": {},
   "outputs": [
    {
     "name": "stdout",
     "output_type": "stream",
     "text": [
      "NAME                                               READY   STATUS    RESTARTS   AGE\n",
      "pod/coredns-5df468b6b7-cndph-x-kube-system-x-vc1   1/1     Running   0          59s\n",
      "pod/vc1-0                                          2/2     Running   0          73s\n",
      "\n",
      "NAME                                         TYPE        CLUSTER-IP     EXTERNAL-IP   PORT(S)                  AGE\n",
      "service/kube-dns-x-kube-system-x-vc1         ClusterIP   10.96.246.96   <none>        53/UDP,53/TCP,9153/TCP   59s\n",
      "service/vc1                                  ClusterIP   10.96.90.227   <none>        443/TCP                  73s\n",
      "service/vc1-headless                         ClusterIP   None           <none>        443/TCP                  73s\n",
      "service/vc1-node-kcd-vcluster-demo-worker2   ClusterIP   10.96.53.194   <none>        10250/TCP                59s\n",
      "\n",
      "NAME                   READY   AGE\n",
      "statefulset.apps/vc1   1/1     73s\n"
     ]
    }
   ],
   "source": [
    "! kubectl get all -n host-namespace"
   ]
  },
  {
   "cell_type": "markdown",
   "metadata": {},
   "source": [
    "Lets connect to the vcluster using the vcluster connect command. Under the hood it runs \"kubectl port forward\" to connect to the vcluster's API server\n",
    "\n",
    "Run this command\n",
    "```shell\n",
    "    vcluster connect vc1 --namespace host-namespace\n",
    "```\n",
    "in your terminal. Make sure you set Demo1_Quick_Start as the current directory before running the comand\n",
    "\n",
    "Observe that vcluster cli connect command also creates a kubeconfig file in the current working directory which can be used to access the vcluster"
   ]
  },
  {
   "cell_type": "markdown",
   "metadata": {},
   "source": [
    "In all the subsequent commands, notice that we have either exported the KUBECONFIG environment variable or passed the kubeconfig file explicitly to kubectl so that all kubectl commands\n",
    "being run now point to the vcluster's api server and not the host cluster's api server"
   ]
  },
  {
   "cell_type": "code",
   "execution_count": 15,
   "metadata": {},
   "outputs": [
    {
     "name": "stdout",
     "output_type": "stream",
     "text": [
      "Namespaces:\n",
      "NAME              STATUS   AGE\n",
      "default           Active   10m\n",
      "kube-system       Active   10m\n",
      "kube-public       Active   10m\n",
      "kube-node-lease   Active   10m\n",
      "\n",
      "\n",
      "Pods:\n",
      "NAME                       READY   STATUS    RESTARTS   AGE\n",
      "coredns-5df468b6b7-cndph   1/1     Running   0          10m\n"
     ]
    }
   ],
   "source": [
    "%%bash \n",
    "export KUBECONFIG=./kubeconfig.yaml\n",
    "echo \"Namespaces:\"\n",
    "kubectl get namespace\n",
    "\n",
    "echo -e \"\\n\\nPods:\"\n",
    "kubectl get pods -n kube-system\n"
   ]
  },
  {
   "cell_type": "markdown",
   "metadata": {},
   "source": [
    "Lets now create a sample workload on the vcluster in namespace ns1"
   ]
  },
  {
   "cell_type": "code",
   "execution_count": 24,
   "metadata": {},
   "outputs": [
    {
     "name": "stdout",
     "output_type": "stream",
     "text": [
      "namespace/ns1 created\n"
     ]
    }
   ],
   "source": [
    "! kubectl create namespace ns1 --kubeconfig ./kubeconfig.yaml\n"
   ]
  },
  {
   "cell_type": "code",
   "execution_count": 25,
   "metadata": {},
   "outputs": [
    {
     "name": "stdout",
     "output_type": "stream",
     "text": [
      "sample   0/2     0            0           0s\n",
      "deployment.apps/sample created\n",
      "sample   0/2     0            0           0s\n",
      "sample   0/2     0            0           1s\n",
      "sample   0/2     2            0           1s\n",
      "sample   1/2     2            1           4s\n",
      "sample   2/2     2            2           6s\n"
     ]
    }
   ],
   "source": [
    "! kubectl create deployment sample -n ns1 --image=nginx --replicas 2 --kubeconfig ./kubeconfig.yaml"
   ]
  },
  {
   "cell_type": "code",
   "execution_count": 26,
   "metadata": {},
   "outputs": [
    {
     "name": "stdout",
     "output_type": "stream",
     "text": [
      "NAME     READY   UP-TO-DATE   AVAILABLE   AGE\n",
      "sample   2/2     2            2           12s\n"
     ]
    }
   ],
   "source": [
    "! kubectl get deploy -n ns1 --kubeconfig ./kubeconfig.yaml"
   ]
  },
  {
   "cell_type": "code",
   "execution_count": 27,
   "metadata": {},
   "outputs": [
    {
     "name": "stdout",
     "output_type": "stream",
     "text": [
      "NAME                      READY   STATUS    RESTARTS   AGE\n",
      "sample-7f75ccc884-9d5zv   1/1     Running   0          33s\n",
      "sample-7f75ccc884-p28cs   1/1     Running   0          32s\n"
     ]
    }
   ],
   "source": [
    "! kubectl get pods -n ns1 --kubeconfig ./kubeconfig.yaml"
   ]
  },
  {
   "cell_type": "markdown",
   "metadata": {},
   "source": [
    "Now our vcluster seems to be running like a regular kubernetes cluster."
   ]
  },
  {
   "cell_type": "markdown",
   "metadata": {},
   "source": [
    "#### Cleanup"
   ]
  },
  {
   "cell_type": "code",
   "execution_count": null,
   "metadata": {},
   "outputs": [],
   "source": [
    "! vcluster delete vc1 -n host-namespace\n",
    "! kubectl delete ns host-namespace"
   ]
  },
  {
   "cell_type": "code",
   "execution_count": null,
   "metadata": {},
   "outputs": [],
   "source": [
    "! kubectl get ns"
   ]
  }
 ],
 "metadata": {
  "interpreter": {
   "hash": "72230b85df51ebc92777be4e6c44cc650838af25c60d888dad40f7efe465b082"
  },
  "kernelspec": {
   "display_name": "Python 3.10.4 ('demoenv')",
   "language": "python",
   "name": "python3"
  },
  "language_info": {
   "codemirror_mode": {
    "name": "ipython",
    "version": 3
   },
   "file_extension": ".py",
   "mimetype": "text/x-python",
   "name": "python",
   "nbconvert_exporter": "python",
   "pygments_lexer": "ipython3",
   "version": "3.10.4"
  },
  "orig_nbformat": 4
 },
 "nbformat": 4,
 "nbformat_minor": 2
}
