{
 "cells": [
  {
   "cell_type": "markdown",
   "metadata": {},
   "source": [
    "## Demo : Pausing and Resuming a vcluster"
   ]
  },
  {
   "cell_type": "markdown",
   "metadata": {},
   "source": [
    "### Create vcluster"
   ]
  },
  {
   "cell_type": "code",
   "execution_count": 1,
   "metadata": {},
   "outputs": [
    {
     "name": "stdout",
     "output_type": "stream",
     "text": [
      "\u001b[1;36m[info]   \u001b[0mCreating namespace host-namespace\n",
      "\u001b[1;36m[info]   \u001b[0mexecute command: helm upgrade vc1 vcluster --repo https://charts.loft.sh --version 0.8.1 --kubeconfig /tmp/1014842955 --namespace host-namespace --install --repository-config='' --values /tmp/3444456695\n",
      "\u001b[1;32m[done] √ \u001b[0mSuccessfully created virtual cluster vc1 in namespace host-namespace. \n",
      "- Use 'vcluster connect vc1 --namespace host-namespace' to access the virtual cluster\n",
      "- Use `vcluster connect vc1 --namespace host-namespace -- kubectl get ns` to run a command directly within the vcluster\n"
     ]
    }
   ],
   "source": [
    "! vcluster create vc1 -n host-namespace --expose"
   ]
  },
  {
   "cell_type": "code",
   "execution_count": 20,
   "metadata": {},
   "outputs": [
    {
     "name": "stdout",
     "output_type": "stream",
     "text": [
      "NAME                                               READY   STATUS    RESTARTS   AGE\n",
      "pod/coredns-5df468b6b7-7n5zw-x-kube-system-x-vc1   1/1     Running   0          33s\n",
      "pod/vc1-0                                          2/2     Running   0          50s\n",
      "\n",
      "NAME                                         TYPE           CLUSTER-IP      EXTERNAL-IP      PORT(S)                  AGE\n",
      "service/kube-dns-x-kube-system-x-vc1         ClusterIP      10.96.148.49    <none>           53/UDP,53/TCP,9153/TCP   33s\n",
      "service/vc1                                  LoadBalancer   10.96.249.179   172.18.255.201   443:31983/TCP            50s\n",
      "service/vc1-headless                         ClusterIP      None            <none>           443/TCP                  50s\n",
      "service/vc1-node-kcd-vcluster-demo-worker2   ClusterIP      10.96.20.31     <none>           10250/TCP                33s\n",
      "\n",
      "NAME                   READY   AGE\n",
      "statefulset.apps/vc1   1/1     50s\n"
     ]
    }
   ],
   "source": [
    "! kubectl get all -n host-namespace"
   ]
  },
  {
   "cell_type": "markdown",
   "metadata": {},
   "source": [
    "##### Accessing Vcluster"
   ]
  },
  {
   "cell_type": "code",
   "execution_count": 21,
   "metadata": {},
   "outputs": [
    {
     "name": "stdout",
     "output_type": "stream",
     "text": [
      "\u001b[1;36m[info]   \u001b[0mUsing vcluster vc1 load balancer endpoint: 172.18.255.201\n",
      "\u001b[1;36m[info]   \u001b[0mUse `vcluster connect vc1 -n host-namespace -- kubectl get ns` to execute a command directly within this terminal\n",
      "\u001b[1;32m[done] √ \u001b[0mVirtual cluster kube config written to: ./kubeconfig.yaml. You can access the cluster via `kubectl --kubeconfig ./kubeconfig.yaml get namespaces`\n"
     ]
    }
   ],
   "source": [
    "! vcluster connect vc1 --namespace host-namespace"
   ]
  },
  {
   "cell_type": "markdown",
   "metadata": {},
   "source": [
    "##### Create a workload inside the vcluster"
   ]
  },
  {
   "cell_type": "code",
   "execution_count": 22,
   "metadata": {},
   "outputs": [
    {
     "name": "stdout",
     "output_type": "stream",
     "text": [
      "namespace/ns1 created\n",
      "deployment.apps/sample created\n"
     ]
    }
   ],
   "source": [
    "! kubectl create ns ns1 --kubeconfig ./kubeconfig.yaml\n",
    "! kubectl create deployment sample -n ns1 --image=nginx --replicas 2 --kubeconfig ./kubeconfig.yaml"
   ]
  },
  {
   "cell_type": "code",
   "execution_count": 24,
   "metadata": {},
   "outputs": [
    {
     "name": "stdout",
     "output_type": "stream",
     "text": [
      "NAME                      READY   STATUS    RESTARTS   AGE\n",
      "sample-7f75ccc884-cczkn   1/1     Running   0          6s\n",
      "sample-7f75ccc884-6kwtd   1/1     Running   0          6s\n"
     ]
    }
   ],
   "source": [
    "! kubectl get pods -n ns1 --kubeconfig ./kubeconfig.yaml"
   ]
  },
  {
   "cell_type": "markdown",
   "metadata": {},
   "source": [
    "##### Pausing the vcluster"
   ]
  },
  {
   "cell_type": "code",
   "execution_count": 25,
   "metadata": {},
   "outputs": [
    {
     "name": "stdout",
     "output_type": "stream",
     "text": [
      "\u001b[1;36m[info]   \u001b[0mScale down statefulSet host-namespace/vc1...\n",
      "\u001b[1;36m[info]   \u001b[0mDelete 3 vcluster workloads\n",
      "\u001b[1;32m[done] √ \u001b[0mSuccessfully paused vcluster host-namespace/vc1\n"
     ]
    }
   ],
   "source": [
    " ! vcluster pause vc1 -n host-namespace"
   ]
  },
  {
   "cell_type": "code",
   "execution_count": 26,
   "metadata": {},
   "outputs": [
    {
     "name": "stdout",
     "output_type": "stream",
     "text": [
      "No resources found in host-namespace namespace.\n"
     ]
    }
   ],
   "source": [
    " ! kubectl get pods -n host-namespace"
   ]
  },
  {
   "cell_type": "code",
   "execution_count": 27,
   "metadata": {},
   "outputs": [
    {
     "name": "stdout",
     "output_type": "stream",
     "text": [
      "NAME                                                        CAPACITY   ACCESS MODES   RECLAIM POLICY   STATUS   CLAIM                       STORAGECLASS   REASON   AGE\n",
      "persistentvolume/pvc-d72ac67b-b74c-4de3-a31e-4dade1411b68   5Gi        RWO            Delete           Bound    host-namespace/data-vc1-0   standard                118s\n",
      "\n",
      "NAME                               STATUS   VOLUME                                     CAPACITY   ACCESS MODES   STORAGECLASS   AGE\n",
      "persistentvolumeclaim/data-vc1-0   Bound    pvc-d72ac67b-b74c-4de3-a31e-4dade1411b68   5Gi        RWO            standard       2m2s\n"
     ]
    }
   ],
   "source": [
    "! kubectl get pv,pvc -n host-namespace"
   ]
  },
  {
   "cell_type": "markdown",
   "metadata": {},
   "source": [
    "##### Resuming the vcluster"
   ]
  },
  {
   "cell_type": "code",
   "execution_count": 28,
   "metadata": {},
   "outputs": [
    {
     "name": "stdout",
     "output_type": "stream",
     "text": [
      "\u001b[1;32m[done] √ \u001b[0mSuccessfully resumed vcluster vc1 in namespace host-namespace\n"
     ]
    }
   ],
   "source": [
    "! vcluster resume vc1 -n host-namespace"
   ]
  },
  {
   "cell_type": "code",
   "execution_count": 30,
   "metadata": {},
   "outputs": [
    {
     "name": "stdout",
     "output_type": "stream",
     "text": [
      "NAME                                           READY   STATUS    RESTARTS   AGE\n",
      "coredns-5df468b6b7-7n5zw-x-kube-system-x-vc1   1/1     Running   0          13s\n",
      "sample-7f75ccc884-6kwtd-x-ns1-x-vc1            1/1     Running   0          13s\n",
      "sample-7f75ccc884-cczkn-x-ns1-x-vc1            1/1     Running   0          13s\n",
      "vc1-0                                          2/2     Running   0          21s\n"
     ]
    }
   ],
   "source": [
    "! kubectl get pods -n host-namespace"
   ]
  },
  {
   "cell_type": "code",
   "execution_count": 31,
   "metadata": {},
   "outputs": [
    {
     "name": "stdout",
     "output_type": "stream",
     "text": [
      "NAME                      READY   STATUS    RESTARTS   AGE\n",
      "sample-7f75ccc884-cczkn   1/1     Running   0          100s\n",
      "sample-7f75ccc884-6kwtd   1/1     Running   0          100s\n"
     ]
    }
   ],
   "source": [
    "! kubectl get pods -n ns1 --kubeconfig ./kubeconfig.yaml"
   ]
  },
  {
   "cell_type": "markdown",
   "metadata": {},
   "source": [
    "### Cleanup"
   ]
  },
  {
   "cell_type": "code",
   "execution_count": 32,
   "metadata": {},
   "outputs": [
    {
     "name": "stdout",
     "output_type": "stream",
     "text": [
      "\u001b[1;36m[info]   \u001b[0mDelete helm chart with helm delete vc1 --namespace host-namespace --kubeconfig /tmp/1024023222 --repository-config=''\n",
      "\u001b[1;32m[done] √ \u001b[0mSuccessfully deleted virtual cluster vc1 in namespace host-namespace\n",
      "\u001b[1;32m[done] √ \u001b[0mSuccessfully deleted virtual cluster pvc data-vc1-0 in namespace host-namespace\n",
      "namespace \"host-namespace\" deleted\n"
     ]
    }
   ],
   "source": [
    "! vcluster delete vc1 -n host-namespace\n",
    "! kubectl delete ns host-namespace"
   ]
  },
  {
   "cell_type": "code",
   "execution_count": 33,
   "metadata": {},
   "outputs": [
    {
     "name": "stdout",
     "output_type": "stream",
     "text": [
      "NAME                 STATUS   AGE\n",
      "default              Active   42m\n",
      "kube-node-lease      Active   42m\n",
      "kube-public          Active   42m\n",
      "kube-system          Active   42m\n",
      "local-path-storage   Active   42m\n",
      "metallb-system       Active   41m\n"
     ]
    }
   ],
   "source": [
    "! kubectl get ns"
   ]
  }
 ],
 "metadata": {
  "interpreter": {
   "hash": "72230b85df51ebc92777be4e6c44cc650838af25c60d888dad40f7efe465b082"
  },
  "kernelspec": {
   "display_name": "Python 3.10.4 ('demoenv')",
   "language": "python",
   "name": "python3"
  },
  "language_info": {
   "codemirror_mode": {
    "name": "ipython",
    "version": 3
   },
   "file_extension": ".py",
   "mimetype": "text/x-python",
   "name": "python",
   "nbconvert_exporter": "python",
   "pygments_lexer": "ipython3",
   "version": "3.10.4"
  },
  "orig_nbformat": 4
 },
 "nbformat": 4,
 "nbformat_minor": 2
}
