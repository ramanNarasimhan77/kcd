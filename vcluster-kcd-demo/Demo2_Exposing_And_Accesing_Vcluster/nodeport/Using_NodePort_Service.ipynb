{
 "cells": [
  {
   "cell_type": "markdown",
   "metadata": {},
   "source": [
    "## Demo 2.2: How to expose a vcluster via a NodePort Service"
   ]
  },
  {
   "cell_type": "markdown",
   "metadata": {},
   "source": [
    "##### Values.yaml preparation"
   ]
  },
  {
   "cell_type": "code",
   "execution_count": 19,
   "metadata": {},
   "outputs": [
    {
     "name": "stdout",
     "output_type": "stream",
     "text": [
      "# Refer https://github.com/loft-sh/vcluster/blob/main/charts/k3s/values.yaml for full set of customisable options\n",
      " \n",
      "syncer:\n",
      " extraArgs:\n",
      "  # This is required to access vcluster using nodeport\n",
      "  # It can be a comma separated list of master/worker node ips\n",
      "  - --tls-san=172.18.0.3\n",
      "\n",
      "# Service configurations\n",
      "service:\n",
      "  type: NodePort"
     ]
    }
   ],
   "source": [
    "! cat values.yaml"
   ]
  },
  {
   "cell_type": "markdown",
   "metadata": {},
   "source": [
    "##### Create vcluster with the customized values.yaml"
   ]
  },
  {
   "cell_type": "code",
   "execution_count": 11,
   "metadata": {},
   "outputs": [
    {
     "name": "stdout",
     "output_type": "stream",
     "text": [
      "\u001b[1;36m[info]   \u001b[0mCreating namespace host-namespace\n",
      "\u001b[1;36m[info]   \u001b[0mexecute command: helm upgrade vc1 vcluster --repo https://charts.loft.sh --version 0.8.1 --kubeconfig /tmp/818726559 --namespace host-namespace --install --repository-config='' --values /tmp/386942664 --values values.yaml\n",
      "\u001b[1;32m[done] √ \u001b[0mSuccessfully created virtual cluster vc1 in namespace host-namespace. \n",
      "- Use 'vcluster connect vc1 --namespace host-namespace' to access the virtual cluster\n",
      "- Use `vcluster connect vc1 --namespace host-namespace -- kubectl get ns` to run a command directly within the vcluster\n"
     ]
    }
   ],
   "source": [
    "! vcluster create vc1 -n host-namespace -f values.yaml"
   ]
  },
  {
   "cell_type": "code",
   "execution_count": 13,
   "metadata": {},
   "outputs": [
    {
     "name": "stdout",
     "output_type": "stream",
     "text": [
      "NAME                                               READY   STATUS    RESTARTS   AGE\n",
      "pod/coredns-5df468b6b7-n5rmv-x-kube-system-x-vc1   1/1     Running   0          15s\n",
      "pod/vc1-0                                          2/2     Running   0          49s\n",
      "\n",
      "NAME                                         TYPE        CLUSTER-IP      EXTERNAL-IP   PORT(S)                  AGE\n",
      "service/kube-dns-x-kube-system-x-vc1         ClusterIP   10.96.112.239   <none>        53/UDP,53/TCP,9153/TCP   15s\n",
      "service/vc1                                  NodePort    10.96.163.114   <none>        443:30676/TCP            49s\n",
      "service/vc1-headless                         ClusterIP   None            <none>        443/TCP                  49s\n",
      "service/vc1-node-kcd-vcluster-demo-worker3   ClusterIP   10.96.90.140    <none>        10250/TCP                15s\n",
      "\n",
      "NAME                   READY   AGE\n",
      "statefulset.apps/vc1   1/1     49s\n"
     ]
    }
   ],
   "source": [
    "! kubectl get all -n host-namespace"
   ]
  },
  {
   "cell_type": "markdown",
   "metadata": {},
   "source": [
    "##### Accessing vcluster using NodePort Service"
   ]
  },
  {
   "cell_type": "markdown",
   "metadata": {},
   "source": [
    "###### Use the nodeport corresponding to service/vc1 to download the kubeconfig"
   ]
  },
  {
   "cell_type": "code",
   "execution_count": 14,
   "metadata": {},
   "outputs": [
    {
     "name": "stdout",
     "output_type": "stream",
     "text": [
      "\u001b[1;36m[info]   \u001b[0mUse `vcluster connect vc1 -n host-namespace -- kubectl get ns` to execute a command directly within this terminal\n",
      "\u001b[1;32m[done] √ \u001b[0mVirtual cluster kube config written to: ./kubeconfig.yaml. You can access the cluster via `kubectl --kubeconfig ./kubeconfig.yaml get namespaces`\n"
     ]
    }
   ],
   "source": [
    "! vcluster connect vc1 --namespace host-namespace --server  https://172.18.0.3:30676"
   ]
  },
  {
   "cell_type": "code",
   "execution_count": 15,
   "metadata": {},
   "outputs": [
    {
     "name": "stdout",
     "output_type": "stream",
     "text": [
      "NAME              STATUS   AGE\n",
      "default           Active   45s\n",
      "kube-system       Active   45s\n",
      "kube-public       Active   45s\n",
      "kube-node-lease   Active   45s\n"
     ]
    }
   ],
   "source": [
    "! kubectl get ns --kubeconfig ./kubeconfig.yaml"
   ]
  },
  {
   "cell_type": "markdown",
   "metadata": {},
   "source": [
    "### Cleanup"
   ]
  },
  {
   "cell_type": "code",
   "execution_count": 17,
   "metadata": {},
   "outputs": [
    {
     "name": "stdout",
     "output_type": "stream",
     "text": [
      "\u001b[1;36m[info]   \u001b[0mDelete helm chart with helm delete vc1 --namespace host-namespace --kubeconfig /tmp/3254826469 --repository-config=''\n",
      "\u001b[1;32m[done] √ \u001b[0mSuccessfully deleted virtual cluster vc1 in namespace host-namespace\n",
      "\u001b[1;32m[done] √ \u001b[0mSuccessfully deleted virtual cluster pvc data-vc1-0 in namespace host-namespace\n",
      "namespace \"host-namespace\" deleted\n"
     ]
    }
   ],
   "source": [
    "! vcluster delete vc1 -n host-namespace\n",
    "! kubectl delete ns host-namespace"
   ]
  },
  {
   "cell_type": "code",
   "execution_count": 18,
   "metadata": {},
   "outputs": [
    {
     "name": "stdout",
     "output_type": "stream",
     "text": [
      "NAME                 STATUS   AGE\n",
      "default              Active   3h28m\n",
      "kube-node-lease      Active   3h28m\n",
      "kube-public          Active   3h28m\n",
      "kube-system          Active   3h28m\n",
      "local-path-storage   Active   3h28m\n",
      "metallb-system       Active   3h28m\n"
     ]
    }
   ],
   "source": [
    "! kubectl get ns"
   ]
  }
 ],
 "metadata": {
  "interpreter": {
   "hash": "72230b85df51ebc92777be4e6c44cc650838af25c60d888dad40f7efe465b082"
  },
  "kernelspec": {
   "display_name": "Python 3.10.4 ('demoenv')",
   "language": "python",
   "name": "python3"
  },
  "language_info": {
   "codemirror_mode": {
    "name": "ipython",
    "version": 3
   },
   "file_extension": ".py",
   "mimetype": "text/x-python",
   "name": "python",
   "nbconvert_exporter": "python",
   "pygments_lexer": "ipython3",
   "version": "3.10.4"
  },
  "orig_nbformat": 4
 },
 "nbformat": 4,
 "nbformat_minor": 2
}
