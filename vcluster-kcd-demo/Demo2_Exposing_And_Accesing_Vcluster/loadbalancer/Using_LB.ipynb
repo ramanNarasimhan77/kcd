{
 "cells": [
  {
   "cell_type": "markdown",
   "metadata": {},
   "source": [
    "## Demo 2.1: Exposing vcluster using Loadbalancer service"
   ]
  },
  {
   "cell_type": "code",
   "execution_count": 1,
   "metadata": {},
   "outputs": [
    {
     "name": "stdout",
     "output_type": "stream",
     "text": [
      "NAME                 STATUS   AGE\n",
      "default              Active   6m23s\n",
      "kube-node-lease      Active   6m25s\n",
      "kube-public          Active   6m25s\n",
      "kube-system          Active   6m25s\n",
      "local-path-storage   Active   6m19s\n",
      "metallb-system       Active   5m28s\n"
     ]
    }
   ],
   "source": [
    "! kubectl get ns"
   ]
  },
  {
   "cell_type": "markdown",
   "metadata": {},
   "source": [
    "### Create vcluster and expose it as a Loadbalancer service"
   ]
  },
  {
   "cell_type": "code",
   "execution_count": 2,
   "metadata": {},
   "outputs": [
    {
     "name": "stdout",
     "output_type": "stream",
     "text": [
      "\u001b[1;36m[info]   \u001b[0mCreating namespace host-namespace\n",
      "\u001b[1;36m[info]   \u001b[0mexecute command: helm upgrade vc1 vcluster --repo https://charts.loft.sh --version 0.8.1 --kubeconfig /tmp/3406161568 --namespace host-namespace --install --repository-config='' --values /tmp/2715273990\n",
      "\u001b[1;32m[done] √ \u001b[0mSuccessfully created virtual cluster vc1 in namespace host-namespace. \n",
      "- Use 'vcluster connect vc1 --namespace host-namespace' to access the virtual cluster\n",
      "- Use `vcluster connect vc1 --namespace host-namespace -- kubectl get ns` to run a command directly within the vcluster\n"
     ]
    }
   ],
   "source": [
    "! vcluster create vc1 -n host-namespace --expose"
   ]
  },
  {
   "cell_type": "code",
   "execution_count": 11,
   "metadata": {},
   "outputs": [
    {
     "name": "stdout",
     "output_type": "stream",
     "text": [
      "NAME                                               READY   STATUS    RESTARTS   AGE\n",
      "pod/coredns-5df468b6b7-slfkn-x-kube-system-x-vc1   1/1     Running   0          6s\n",
      "pod/vc1-0                                          2/2     Running   0          72s\n",
      "\n",
      "NAME                                        TYPE           CLUSTER-IP      EXTERNAL-IP      PORT(S)                  AGE\n",
      "service/kube-dns-x-kube-system-x-vc1        ClusterIP      10.96.179.102   <none>           53/UDP,53/TCP,9153/TCP   6s\n",
      "service/vc1                                 LoadBalancer   10.96.216.159   172.18.255.201   443:32226/TCP            72s\n",
      "service/vc1-headless                        ClusterIP      None            <none>           443/TCP                  72s\n",
      "service/vc1-node-kcd-vcluster-demo-worker   ClusterIP      10.96.209.17    <none>           10250/TCP                6s\n",
      "\n",
      "NAME                   READY   AGE\n",
      "statefulset.apps/vc1   1/1     72s\n"
     ]
    }
   ],
   "source": [
    "! kubectl get all -n host-namespace"
   ]
  },
  {
   "cell_type": "markdown",
   "metadata": {},
   "source": [
    "##### Accessing Vcluster using Cluster Admin Kubeconfig"
   ]
  },
  {
   "cell_type": "code",
   "execution_count": 12,
   "metadata": {},
   "outputs": [
    {
     "name": "stdout",
     "output_type": "stream",
     "text": [
      "\u001b[1;36m[info]   \u001b[0mUsing vcluster vc1 load balancer endpoint: 172.18.255.201\n",
      "\u001b[1;36m[info]   \u001b[0mUse `vcluster connect vc1 -n host-namespace -- kubectl get ns` to execute a command directly within this terminal\n",
      "\u001b[1;32m[done] √ \u001b[0mVirtual cluster kube config written to: ./kubeconfig.yaml. You can access the cluster via `kubectl --kubeconfig ./kubeconfig.yaml get namespaces`\n"
     ]
    }
   ],
   "source": [
    "! vcluster connect vc1 --namespace host-namespace"
   ]
  },
  {
   "cell_type": "code",
   "execution_count": 13,
   "metadata": {},
   "outputs": [
    {
     "name": "stdout",
     "output_type": "stream",
     "text": [
      "NAME              STATUS   AGE\n",
      "default           Active   96s\n",
      "kube-system       Active   96s\n",
      "kube-public       Active   96s\n",
      "kube-node-lease   Active   96s\n"
     ]
    }
   ],
   "source": [
    "! kubectl get ns --kubeconfig ./kubeconfig.yaml"
   ]
  },
  {
   "cell_type": "markdown",
   "metadata": {},
   "source": [
    "##### Create a workload inside the vcluster"
   ]
  },
  {
   "cell_type": "code",
   "execution_count": 14,
   "metadata": {},
   "outputs": [
    {
     "name": "stdout",
     "output_type": "stream",
     "text": [
      "namespace/ns1 created\n",
      "deployment.apps/sample created\n"
     ]
    }
   ],
   "source": [
    "! kubectl create ns ns1 --kubeconfig ./kubeconfig.yaml\n",
    "! kubectl create deployment sample -n ns1 --image=nginx --replicas 2 --kubeconfig ./kubeconfig.yaml"
   ]
  },
  {
   "cell_type": "code",
   "execution_count": 22,
   "metadata": {},
   "outputs": [
    {
     "name": "stdout",
     "output_type": "stream",
     "text": [
      "NAME                      READY   STATUS    RESTARTS   AGE\n",
      "sample-7f75ccc884-t9phf   1/1     Running   0          43s\n",
      "sample-7f75ccc884-lfshf   1/1     Running   0          43s\n"
     ]
    }
   ],
   "source": [
    "! kubectl get pods -n ns1 --kubeconfig ./kubeconfig.yaml"
   ]
  },
  {
   "cell_type": "markdown",
   "metadata": {},
   "source": [
    "##### Accessing vcluster using a Read Only Kubeconfig"
   ]
  },
  {
   "cell_type": "code",
   "execution_count": 23,
   "metadata": {},
   "outputs": [
    {
     "name": "stdout",
     "output_type": "stream",
     "text": [
      "\u001b[1;36m[info]   \u001b[0mUsing vcluster vc1 load balancer endpoint: 172.18.255.201\n",
      "\u001b[1;36m[info]   \u001b[0mCreate service account token for kube-system/my-user\n",
      "Forwarding from 127.0.0.1:11000 -> 8443\n",
      "Forwarding from [::1]:11000 -> 8443\n",
      "Handling connection for 11000\n",
      "\u001b[1;32m[done] √ \u001b[0mCreated service account kube-system/my-user\n",
      "\u001b[1;32m[done] √ \u001b[0mCreated cluster role binding for cluster role view\n",
      "\u001b[1;36m[info]   \u001b[0mUse `vcluster connect vc1 -n host-namespace -- kubectl get ns` to execute a command directly within this terminal\n",
      "\u001b[1;32m[done] √ \u001b[0mVirtual cluster kube config written to: svc_account_kubeconfig.yaml. You can access the cluster via `kubectl --kubeconfig svc_account_kubeconfig.yaml get namespaces`\n"
     ]
    }
   ],
   "source": [
    " ! vcluster connect vc1 --namespace host-namespace \\\n",
    "    --service-account kube-system/my-user --cluster-role view --kube-config svc_account_kubeconfig.yaml"
   ]
  },
  {
   "cell_type": "code",
   "execution_count": 24,
   "metadata": {},
   "outputs": [
    {
     "name": "stdout",
     "output_type": "stream",
     "text": [
      "NAME     READY   UP-TO-DATE   AVAILABLE   AGE\n",
      "sample   2/2     2            2           93s\n"
     ]
    }
   ],
   "source": [
    "! kubectl get deployments -n ns1 --kubeconfig ./svc_account_kubeconfig.yaml"
   ]
  },
  {
   "cell_type": "code",
   "execution_count": 25,
   "metadata": {},
   "outputs": [
    {
     "name": "stdout",
     "output_type": "stream",
     "text": [
      "Error from server (Forbidden): deployments.apps \"sample\" is forbidden: User \"system:serviceaccount:kube-system:my-user\" cannot delete resource \"deployments\" in API group \"apps\" in the namespace \"ns1\"\n"
     ]
    }
   ],
   "source": [
    "! kubectl delete deployment sample -n ns1 --kubeconfig ./svc_account_kubeconfig.yaml"
   ]
  },
  {
   "cell_type": "markdown",
   "metadata": {},
   "source": [
    "##### Accessing vcluster without using vcluster CLI"
   ]
  },
  {
   "cell_type": "code",
   "execution_count": 26,
   "metadata": {},
   "outputs": [
    {
     "name": "stdout",
     "output_type": "stream",
     "text": [
      "apiVersion: v1\n",
      "clusters:\n",
      "- cluster:\n",
      "    certificate-authority-data: LS0tLS1CRUdJTiBDRVJUSUZJQ0FURS0tLS0tCk1JSUJlRENDQVIyZ0F3SUJBZ0lCQURBS0JnZ3Foa2pPUFFRREFqQWpNU0V3SHdZRFZRUUREQmhyTTNNdGMyVnkKZG1WeUxXTmhRREUyTlRNMk5EVXdOVFV3SGhjTk1qSXdOVEkzTURrMU1EVTFXaGNOTXpJd05USTBNRGsxTURVMQpXakFqTVNFd0h3WURWUVFEREJock0zTXRjMlZ5ZG1WeUxXTmhRREUyTlRNMk5EVXdOVFV3V1RBVEJnY3Foa2pPClBRSUJCZ2dxaGtqT1BRTUJCd05DQUFSVEcxYnJLRmZIclk0T2tkN3FMSGJONVU4eHBxeFJ2MHEreXp6M3cyT2IKK0UrZzNTaGxscU5tUTdLdWE1dnZ3bGkzbytwRFh5YzNNYlJjVUdpVms4NFZvMEl3UURBT0JnTlZIUThCQWY4RQpCQU1DQXFRd0R3WURWUjBUQVFIL0JBVXdBd0VCL3pBZEJnTlZIUTRFRmdRVXpHREU3RStmRTcyeXdLTFVEbkNHCkRtR3FMcDB3Q2dZSUtvWkl6ajBFQXdJRFNRQXdSZ0loQVBsUjVCV0lGZ0x5NUlDM0xhMnFqbXZibFFXNXp3aEQKTWIwbm1YVWEwR2h0QWlFQXVqRWFWc0ROamgvNitLZnNpL0VUckxEdlllU0dxaTlkMGxBN2RzNXhCQVk9Ci0tLS0tRU5EIENFUlRJRklDQVRFLS0tLS0K\n",
      "    server: https://localhost:8443\n",
      "  name: local\n",
      "contexts:\n",
      "- context:\n",
      "    cluster: local\n",
      "    namespace: default\n",
      "    user: user\n",
      "  name: Default\n",
      "current-context: Default\n",
      "kind: Config\n",
      "preferences: {}\n",
      "users:\n",
      "- name: user\n",
      "  user:\n",
      "    client-certificate-data: LS0tLS1CRUdJTiBDRVJUSUZJQ0FURS0tLS0tCk1JSUJrVENDQVRlZ0F3SUJBZ0lJZjdLYTVuNmZGZ013Q2dZSUtvWkl6ajBFQXdJd0l6RWhNQjhHQTFVRUF3d1kKYXpOekxXTnNhV1Z1ZEMxallVQXhOalV6TmpRMU1EVTFNQjRYRFRJeU1EVXlOekE1TlRBMU5Wb1hEVEl6TURVeQpOekE1TlRBMU5Wb3dNREVYTUJVR0ExVUVDaE1PYzNsemRHVnRPbTFoYzNSbGNuTXhGVEFUQmdOVkJBTVRESE41CmMzUmxiVHBoWkcxcGJqQlpNQk1HQnlxR1NNNDlBZ0VHQ0NxR1NNNDlBd0VIQTBJQUJKdmYyOW9WVkt2RkRud3gKemRaSXJ0K3VQWVhNdzVlY29vU3I4SEZpYzYxdTBJOXgzRGttOFV2TFcvcFkzSXhUWi9lUHV5dTU2UTNJalVUZQpxK3dqRFpDalNEQkdNQTRHQTFVZER3RUIvd1FFQXdJRm9EQVRCZ05WSFNVRUREQUtCZ2dyQmdFRkJRY0RBakFmCkJnTlZIU01FR0RBV2dCU25pYXY3aXNIK3BPNE5KL05Ud3VMcXdYakQ5ekFLQmdncWhrak9QUVFEQWdOSUFEQkYKQWlCTGc1dStHSTVKbmRGQU92RC9BTUFLOWg5Q1lNMjlMNGQvNTU3R1FjcTZiUUloQUtxZTJnK2RoMUMxWk9RMgpvT1RGYW1YdzB6MFdyMWoxM1RGeVJ2Qnd1QlBGCi0tLS0tRU5EIENFUlRJRklDQVRFLS0tLS0KLS0tLS1CRUdJTiBDRVJUSUZJQ0FURS0tLS0tCk1JSUJlRENDQVIyZ0F3SUJBZ0lCQURBS0JnZ3Foa2pPUFFRREFqQWpNU0V3SHdZRFZRUUREQmhyTTNNdFkyeHAKWlc1MExXTmhRREUyTlRNMk5EVXdOVFV3SGhjTk1qSXdOVEkzTURrMU1EVTFXaGNOTXpJd05USTBNRGsxTURVMQpXakFqTVNFd0h3WURWUVFEREJock0zTXRZMnhwWlc1MExXTmhRREUyTlRNMk5EVXdOVFV3V1RBVEJnY3Foa2pPClBRSUJCZ2dxaGtqT1BRTUJCd05DQUFTbHpkUTRzbkF1ekwrVlZrT2wxeDFnZVhweDlsVDFMUFJYTG9CSURhaUIKcmVWN3NOM1k3WUo2aHpWMER2a2NoNW5lM2ZkV2d1TXMzNXpBNDNQWVgwVFJvMEl3UURBT0JnTlZIUThCQWY4RQpCQU1DQXFRd0R3WURWUjBUQVFIL0JBVXdBd0VCL3pBZEJnTlZIUTRFRmdRVXA0bXIrNHJCL3FUdURTZnpVOExpCjZzRjR3L2N3Q2dZSUtvWkl6ajBFQXdJRFNRQXdSZ0loQU5seDlUY25UdldoeXowLy9JUW5VVkVPbmVoWEE0Y1cKVUpkTU5lTDA4TUNmQWlFQXE4cnE5ZXMxU1lTeDZZVVkrZDZnTzFtV0tHTHZKUUlvYzRSK2gzSStxVVU9Ci0tLS0tRU5EIENFUlRJRklDQVRFLS0tLS0K\n",
      "    client-key-data: LS0tLS1CRUdJTiBFQyBQUklWQVRFIEtFWS0tLS0tCk1IY0NBUUVFSU1oTlJwTVZObm5XRFJPTlptNjlEcCtXSno1ZmprRjRveXovM0FIV2xxV2NvQW9HQ0NxR1NNNDkKQXdFSG9VUURRZ0FFbTkvYjJoVlVxOFVPZkRITjFraXUzNjQ5aGN6RGw1eWloS3Z3Y1dKenJXN1FqM0hjT1NieApTOHRiK2xqY2pGTm45NCs3SzducERjaU5STjZyN0NNTmtBPT0KLS0tLS1FTkQgRUMgUFJJVkFURSBLRVktLS0tLQo=\n"
     ]
    }
   ],
   "source": [
    "%%bash\n",
    " kubectl get secret vc-vc1 -n host-namespace -o go-template --template='{{.data.config}}' | base64 -d"
   ]
  },
  {
   "cell_type": "markdown",
   "metadata": {},
   "source": [
    "### Cleanup"
   ]
  },
  {
   "cell_type": "code",
   "execution_count": 27,
   "metadata": {},
   "outputs": [
    {
     "name": "stdout",
     "output_type": "stream",
     "text": [
      "\u001b[1;36m[info]   \u001b[0mDelete helm chart with helm delete vc1 --namespace host-namespace --kubeconfig /tmp/3457935168 --repository-config=''\n",
      "\u001b[1;32m[done] √ \u001b[0mSuccessfully deleted virtual cluster vc1 in namespace host-namespace\n",
      "\u001b[1;32m[done] √ \u001b[0mSuccessfully deleted virtual cluster pvc data-vc1-0 in namespace host-namespace\n",
      "namespace \"host-namespace\" deleted\n"
     ]
    }
   ],
   "source": [
    "! vcluster delete vc1 -n host-namespace\n",
    "! kubectl delete ns host-namespace"
   ]
  },
  {
   "cell_type": "code",
   "execution_count": 28,
   "metadata": {},
   "outputs": [
    {
     "name": "stdout",
     "output_type": "stream",
     "text": [
      "NAME                 STATUS   AGE\n",
      "default              Active   13m\n",
      "kube-node-lease      Active   13m\n",
      "kube-public          Active   13m\n",
      "kube-system          Active   13m\n",
      "local-path-storage   Active   13m\n",
      "metallb-system       Active   12m\n"
     ]
    }
   ],
   "source": [
    "! kubectl get ns"
   ]
  }
 ],
 "metadata": {
  "interpreter": {
   "hash": "72230b85df51ebc92777be4e6c44cc650838af25c60d888dad40f7efe465b082"
  },
  "kernelspec": {
   "display_name": "Python 3.10.4 ('demoenv')",
   "language": "python",
   "name": "python3"
  },
  "language_info": {
   "codemirror_mode": {
    "name": "ipython",
    "version": 3
   },
   "file_extension": ".py",
   "mimetype": "text/x-python",
   "name": "python",
   "nbconvert_exporter": "python",
   "pygments_lexer": "ipython3",
   "version": "3.10.4"
  },
  "orig_nbformat": 4
 },
 "nbformat": 4,
 "nbformat_minor": 2
}
